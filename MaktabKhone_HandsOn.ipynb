{
  "cells": [
    {
      "cell_type": "code",
      "execution_count": 1,
      "metadata": {
        "id": "ykusspuG9_d8"
      },
      "outputs": [
        {
          "ename": "KeyboardInterrupt",
          "evalue": "",
          "output_type": "error",
          "traceback": [
            "\u001b[0;31m---------------------------------------------------------------------------\u001b[0m",
            "\u001b[0;31mKeyboardInterrupt\u001b[0m                         Traceback (most recent call last)",
            "Input \u001b[0;32mIn [1]\u001b[0m, in \u001b[0;36m<cell line: 1>\u001b[0;34m()\u001b[0m\n\u001b[0;32m----> 1\u001b[0m \u001b[38;5;28;01mimport\u001b[39;00m \u001b[38;5;21;01mtensorflow\u001b[39;00m \u001b[38;5;28;01mas\u001b[39;00m \u001b[38;5;21;01mtf\u001b[39;00m\n\u001b[1;32m      2\u001b[0m \u001b[38;5;28;01mimport\u001b[39;00m \u001b[38;5;21;01mnumpy\u001b[39;00m \u001b[38;5;28;01mas\u001b[39;00m \u001b[38;5;21;01mnp\u001b[39;00m\n\u001b[1;32m      3\u001b[0m \u001b[38;5;28;01mfrom\u001b[39;00m \u001b[38;5;21;01mtensorflow\u001b[39;00m \u001b[38;5;28;01mimport\u001b[39;00m keras\n",
            "File \u001b[0;32m~/opt/anaconda3/envs/quera/lib/python3.9/site-packages/tensorflow/__init__.py:48\u001b[0m, in \u001b[0;36m<module>\u001b[0;34m\u001b[0m\n\u001b[1;32m     45\u001b[0m \u001b[38;5;28;01mfrom\u001b[39;00m \u001b[38;5;21;01mtensorflow\u001b[39;00m\u001b[38;5;21;01m.\u001b[39;00m\u001b[38;5;21;01mpython\u001b[39;00m \u001b[38;5;28;01mimport\u001b[39;00m tf2 \u001b[38;5;28;01mas\u001b[39;00m _tf2\n\u001b[1;32m     46\u001b[0m _tf2\u001b[38;5;241m.\u001b[39menable()\n\u001b[0;32m---> 48\u001b[0m \u001b[38;5;28;01mfrom\u001b[39;00m \u001b[38;5;21;01mtensorflow\u001b[39;00m\u001b[38;5;21;01m.\u001b[39;00m\u001b[38;5;21;01m_api\u001b[39;00m\u001b[38;5;21;01m.\u001b[39;00m\u001b[38;5;21;01mv2\u001b[39;00m \u001b[38;5;28;01mimport\u001b[39;00m __internal__\n\u001b[1;32m     49\u001b[0m \u001b[38;5;28;01mfrom\u001b[39;00m \u001b[38;5;21;01mtensorflow\u001b[39;00m\u001b[38;5;21;01m.\u001b[39;00m\u001b[38;5;21;01m_api\u001b[39;00m\u001b[38;5;21;01m.\u001b[39;00m\u001b[38;5;21;01mv2\u001b[39;00m \u001b[38;5;28;01mimport\u001b[39;00m __operators__\n\u001b[1;32m     50\u001b[0m \u001b[38;5;28;01mfrom\u001b[39;00m \u001b[38;5;21;01mtensorflow\u001b[39;00m\u001b[38;5;21;01m.\u001b[39;00m\u001b[38;5;21;01m_api\u001b[39;00m\u001b[38;5;21;01m.\u001b[39;00m\u001b[38;5;21;01mv2\u001b[39;00m \u001b[38;5;28;01mimport\u001b[39;00m audio\n",
            "File \u001b[0;32m~/opt/anaconda3/envs/quera/lib/python3.9/site-packages/tensorflow/_api/v2/__internal__/__init__.py:8\u001b[0m, in \u001b[0;36m<module>\u001b[0;34m\u001b[0m\n\u001b[1;32m      3\u001b[0m \u001b[38;5;124;03m\"\"\"Public API for tf._api.v2.__internal__ namespace\u001b[39;00m\n\u001b[1;32m      4\u001b[0m \u001b[38;5;124;03m\"\"\"\u001b[39;00m\n\u001b[1;32m      6\u001b[0m \u001b[38;5;28;01mimport\u001b[39;00m \u001b[38;5;21;01msys\u001b[39;00m \u001b[38;5;28;01mas\u001b[39;00m \u001b[38;5;21;01m_sys\u001b[39;00m\n\u001b[0;32m----> 8\u001b[0m \u001b[38;5;28;01mfrom\u001b[39;00m \u001b[38;5;21;01mtensorflow\u001b[39;00m\u001b[38;5;21;01m.\u001b[39;00m\u001b[38;5;21;01m_api\u001b[39;00m\u001b[38;5;21;01m.\u001b[39;00m\u001b[38;5;21;01mv2\u001b[39;00m\u001b[38;5;21;01m.\u001b[39;00m\u001b[38;5;21;01m__internal__\u001b[39;00m \u001b[38;5;28;01mimport\u001b[39;00m autograph\n\u001b[1;32m      9\u001b[0m \u001b[38;5;28;01mfrom\u001b[39;00m \u001b[38;5;21;01mtensorflow\u001b[39;00m\u001b[38;5;21;01m.\u001b[39;00m\u001b[38;5;21;01m_api\u001b[39;00m\u001b[38;5;21;01m.\u001b[39;00m\u001b[38;5;21;01mv2\u001b[39;00m\u001b[38;5;21;01m.\u001b[39;00m\u001b[38;5;21;01m__internal__\u001b[39;00m \u001b[38;5;28;01mimport\u001b[39;00m decorator\n\u001b[1;32m     10\u001b[0m \u001b[38;5;28;01mfrom\u001b[39;00m \u001b[38;5;21;01mtensorflow\u001b[39;00m\u001b[38;5;21;01m.\u001b[39;00m\u001b[38;5;21;01m_api\u001b[39;00m\u001b[38;5;21;01m.\u001b[39;00m\u001b[38;5;21;01mv2\u001b[39;00m\u001b[38;5;21;01m.\u001b[39;00m\u001b[38;5;21;01m__internal__\u001b[39;00m \u001b[38;5;28;01mimport\u001b[39;00m dispatch\n",
            "File \u001b[0;32m~/opt/anaconda3/envs/quera/lib/python3.9/site-packages/tensorflow/_api/v2/__internal__/autograph/__init__.py:8\u001b[0m, in \u001b[0;36m<module>\u001b[0;34m\u001b[0m\n\u001b[1;32m      3\u001b[0m \u001b[38;5;124;03m\"\"\"Public API for tf._api.v2.__internal__.autograph namespace\u001b[39;00m\n\u001b[1;32m      4\u001b[0m \u001b[38;5;124;03m\"\"\"\u001b[39;00m\n\u001b[1;32m      6\u001b[0m \u001b[38;5;28;01mimport\u001b[39;00m \u001b[38;5;21;01msys\u001b[39;00m \u001b[38;5;28;01mas\u001b[39;00m \u001b[38;5;21;01m_sys\u001b[39;00m\n\u001b[0;32m----> 8\u001b[0m \u001b[38;5;28;01mfrom\u001b[39;00m \u001b[38;5;21;01mtensorflow\u001b[39;00m\u001b[38;5;21;01m.\u001b[39;00m\u001b[38;5;21;01mpython\u001b[39;00m\u001b[38;5;21;01m.\u001b[39;00m\u001b[38;5;21;01mautograph\u001b[39;00m\u001b[38;5;21;01m.\u001b[39;00m\u001b[38;5;21;01mcore\u001b[39;00m\u001b[38;5;21;01m.\u001b[39;00m\u001b[38;5;21;01mag_ctx\u001b[39;00m \u001b[38;5;28;01mimport\u001b[39;00m control_status_ctx \u001b[38;5;66;03m# line: 34\u001b[39;00m\n\u001b[1;32m      9\u001b[0m \u001b[38;5;28;01mfrom\u001b[39;00m \u001b[38;5;21;01mtensorflow\u001b[39;00m\u001b[38;5;21;01m.\u001b[39;00m\u001b[38;5;21;01mpython\u001b[39;00m\u001b[38;5;21;01m.\u001b[39;00m\u001b[38;5;21;01mautograph\u001b[39;00m\u001b[38;5;21;01m.\u001b[39;00m\u001b[38;5;21;01mimpl\u001b[39;00m\u001b[38;5;21;01m.\u001b[39;00m\u001b[38;5;21;01mapi\u001b[39;00m \u001b[38;5;28;01mimport\u001b[39;00m tf_convert\n",
            "File \u001b[0;32m~/opt/anaconda3/envs/quera/lib/python3.9/site-packages/tensorflow/python/autograph/core/ag_ctx.py:21\u001b[0m, in \u001b[0;36m<module>\u001b[0;34m\u001b[0m\n\u001b[1;32m     18\u001b[0m \u001b[38;5;28;01mimport\u001b[39;00m \u001b[38;5;21;01minspect\u001b[39;00m\n\u001b[1;32m     19\u001b[0m \u001b[38;5;28;01mimport\u001b[39;00m \u001b[38;5;21;01mthreading\u001b[39;00m\n\u001b[0;32m---> 21\u001b[0m \u001b[38;5;28;01mfrom\u001b[39;00m \u001b[38;5;21;01mtensorflow\u001b[39;00m\u001b[38;5;21;01m.\u001b[39;00m\u001b[38;5;21;01mpython\u001b[39;00m\u001b[38;5;21;01m.\u001b[39;00m\u001b[38;5;21;01mautograph\u001b[39;00m\u001b[38;5;21;01m.\u001b[39;00m\u001b[38;5;21;01mutils\u001b[39;00m \u001b[38;5;28;01mimport\u001b[39;00m ag_logging\n\u001b[1;32m     22\u001b[0m \u001b[38;5;28;01mfrom\u001b[39;00m \u001b[38;5;21;01mtensorflow\u001b[39;00m\u001b[38;5;21;01m.\u001b[39;00m\u001b[38;5;21;01mpython\u001b[39;00m\u001b[38;5;21;01m.\u001b[39;00m\u001b[38;5;21;01mutil\u001b[39;00m\u001b[38;5;21;01m.\u001b[39;00m\u001b[38;5;21;01mtf_export\u001b[39;00m \u001b[38;5;28;01mimport\u001b[39;00m tf_export\n\u001b[1;32m     25\u001b[0m stacks \u001b[38;5;241m=\u001b[39m threading\u001b[38;5;241m.\u001b[39mlocal()\n",
            "File \u001b[0;32m~/opt/anaconda3/envs/quera/lib/python3.9/site-packages/tensorflow/python/autograph/utils/__init__.py:17\u001b[0m, in \u001b[0;36m<module>\u001b[0;34m\u001b[0m\n\u001b[1;32m      1\u001b[0m \u001b[38;5;66;03m# Copyright 2016 The TensorFlow Authors. All Rights Reserved.\u001b[39;00m\n\u001b[1;32m      2\u001b[0m \u001b[38;5;66;03m#\u001b[39;00m\n\u001b[1;32m      3\u001b[0m \u001b[38;5;66;03m# Licensed under the Apache License, Version 2.0 (the \"License\");\u001b[39;00m\n\u001b[0;32m   (...)\u001b[0m\n\u001b[1;32m     13\u001b[0m \u001b[38;5;66;03m# limitations under the License.\u001b[39;00m\n\u001b[1;32m     14\u001b[0m \u001b[38;5;66;03m# ==============================================================================\u001b[39;00m\n\u001b[1;32m     15\u001b[0m \u001b[38;5;124;03m\"\"\"Utility module that contains APIs usable in the generated code.\"\"\"\u001b[39;00m\n\u001b[0;32m---> 17\u001b[0m \u001b[38;5;28;01mfrom\u001b[39;00m \u001b[38;5;21;01mtensorflow\u001b[39;00m\u001b[38;5;21;01m.\u001b[39;00m\u001b[38;5;21;01mpython\u001b[39;00m\u001b[38;5;21;01m.\u001b[39;00m\u001b[38;5;21;01mautograph\u001b[39;00m\u001b[38;5;21;01m.\u001b[39;00m\u001b[38;5;21;01mutils\u001b[39;00m\u001b[38;5;21;01m.\u001b[39;00m\u001b[38;5;21;01mcontext_managers\u001b[39;00m \u001b[38;5;28;01mimport\u001b[39;00m control_dependency_on_returns\n\u001b[1;32m     18\u001b[0m \u001b[38;5;28;01mfrom\u001b[39;00m \u001b[38;5;21;01mtensorflow\u001b[39;00m\u001b[38;5;21;01m.\u001b[39;00m\u001b[38;5;21;01mpython\u001b[39;00m\u001b[38;5;21;01m.\u001b[39;00m\u001b[38;5;21;01mautograph\u001b[39;00m\u001b[38;5;21;01m.\u001b[39;00m\u001b[38;5;21;01mutils\u001b[39;00m\u001b[38;5;21;01m.\u001b[39;00m\u001b[38;5;21;01mmisc\u001b[39;00m \u001b[38;5;28;01mimport\u001b[39;00m alias_tensors\n\u001b[1;32m     19\u001b[0m \u001b[38;5;28;01mfrom\u001b[39;00m \u001b[38;5;21;01mtensorflow\u001b[39;00m\u001b[38;5;21;01m.\u001b[39;00m\u001b[38;5;21;01mpython\u001b[39;00m\u001b[38;5;21;01m.\u001b[39;00m\u001b[38;5;21;01mautograph\u001b[39;00m\u001b[38;5;21;01m.\u001b[39;00m\u001b[38;5;21;01mutils\u001b[39;00m\u001b[38;5;21;01m.\u001b[39;00m\u001b[38;5;21;01mtensor_list\u001b[39;00m \u001b[38;5;28;01mimport\u001b[39;00m dynamic_list_append\n",
            "File \u001b[0;32m~/opt/anaconda3/envs/quera/lib/python3.9/site-packages/tensorflow/python/autograph/utils/context_managers.py:19\u001b[0m, in \u001b[0;36m<module>\u001b[0;34m\u001b[0m\n\u001b[1;32m     15\u001b[0m \u001b[38;5;124;03m\"\"\"Various context managers.\"\"\"\u001b[39;00m\n\u001b[1;32m     17\u001b[0m \u001b[38;5;28;01mimport\u001b[39;00m \u001b[38;5;21;01mcontextlib\u001b[39;00m\n\u001b[0;32m---> 19\u001b[0m \u001b[38;5;28;01mfrom\u001b[39;00m \u001b[38;5;21;01mtensorflow\u001b[39;00m\u001b[38;5;21;01m.\u001b[39;00m\u001b[38;5;21;01mpython\u001b[39;00m\u001b[38;5;21;01m.\u001b[39;00m\u001b[38;5;21;01mframework\u001b[39;00m \u001b[38;5;28;01mimport\u001b[39;00m ops\n\u001b[1;32m     20\u001b[0m \u001b[38;5;28;01mfrom\u001b[39;00m \u001b[38;5;21;01mtensorflow\u001b[39;00m\u001b[38;5;21;01m.\u001b[39;00m\u001b[38;5;21;01mpython\u001b[39;00m\u001b[38;5;21;01m.\u001b[39;00m\u001b[38;5;21;01mops\u001b[39;00m \u001b[38;5;28;01mimport\u001b[39;00m tensor_array_ops\n\u001b[1;32m     23\u001b[0m \u001b[38;5;28;01mdef\u001b[39;00m \u001b[38;5;21mcontrol_dependency_on_returns\u001b[39m(return_value):\n",
            "File \u001b[0;32m~/opt/anaconda3/envs/quera/lib/python3.9/site-packages/tensorflow/python/framework/ops.py:40\u001b[0m, in \u001b[0;36m<module>\u001b[0;34m\u001b[0m\n\u001b[1;32m     36\u001b[0m \u001b[38;5;28;01mfrom\u001b[39;00m \u001b[38;5;21;01mtensorflow\u001b[39;00m\u001b[38;5;21;01m.\u001b[39;00m\u001b[38;5;21;01mcore\u001b[39;00m\u001b[38;5;21;01m.\u001b[39;00m\u001b[38;5;21;01mprotobuf\u001b[39;00m \u001b[38;5;28;01mimport\u001b[39;00m config_pb2\n\u001b[1;32m     37\u001b[0m \u001b[38;5;66;03m# pywrap_tensorflow must be imported first to avoid protobuf issues.\u001b[39;00m\n\u001b[1;32m     38\u001b[0m \u001b[38;5;66;03m# (b/143110113)\u001b[39;00m\n\u001b[1;32m     39\u001b[0m \u001b[38;5;66;03m# pylint: disable=invalid-import-order,g-bad-import-order,unused-import\u001b[39;00m\n\u001b[0;32m---> 40\u001b[0m \u001b[38;5;28;01mfrom\u001b[39;00m \u001b[38;5;21;01mtensorflow\u001b[39;00m\u001b[38;5;21;01m.\u001b[39;00m\u001b[38;5;21;01mpython\u001b[39;00m \u001b[38;5;28;01mimport\u001b[39;00m pywrap_tensorflow\n\u001b[1;32m     41\u001b[0m \u001b[38;5;28;01mfrom\u001b[39;00m \u001b[38;5;21;01mtensorflow\u001b[39;00m\u001b[38;5;21;01m.\u001b[39;00m\u001b[38;5;21;01mpython\u001b[39;00m \u001b[38;5;28;01mimport\u001b[39;00m pywrap_tfe\n\u001b[1;32m     42\u001b[0m \u001b[38;5;66;03m# pylint: enable=invalid-import-order,g-bad-import-order,unused-import\u001b[39;00m\n",
            "File \u001b[0;32m~/opt/anaconda3/envs/quera/lib/python3.9/site-packages/tensorflow/python/pywrap_tensorflow.py:34\u001b[0m, in \u001b[0;36m<module>\u001b[0;34m\u001b[0m\n\u001b[1;32m     29\u001b[0m \u001b[38;5;28;01mfrom\u001b[39;00m \u001b[38;5;21;01mtensorflow\u001b[39;00m\u001b[38;5;21;01m.\u001b[39;00m\u001b[38;5;21;01mpython\u001b[39;00m\u001b[38;5;21;01m.\u001b[39;00m\u001b[38;5;21;01mplatform\u001b[39;00m \u001b[38;5;28;01mimport\u001b[39;00m self_check\n\u001b[1;32m     31\u001b[0m \u001b[38;5;66;03m# TODO(mdan): Cleanup antipattern: import for side effects.\u001b[39;00m\n\u001b[1;32m     32\u001b[0m \n\u001b[1;32m     33\u001b[0m \u001b[38;5;66;03m# Perform pre-load sanity checks in order to produce a more actionable error.\u001b[39;00m\n\u001b[0;32m---> 34\u001b[0m \u001b[43mself_check\u001b[49m\u001b[38;5;241;43m.\u001b[39;49m\u001b[43mpreload_check\u001b[49m\u001b[43m(\u001b[49m\u001b[43m)\u001b[49m\n\u001b[1;32m     36\u001b[0m \u001b[38;5;66;03m# pylint: disable=wildcard-import,g-import-not-at-top,unused-import,line-too-long\u001b[39;00m\n\u001b[1;32m     38\u001b[0m \u001b[38;5;28;01mtry\u001b[39;00m:\n\u001b[1;32m     39\u001b[0m   \u001b[38;5;66;03m# This import is expected to fail if there is an explicit shared object\u001b[39;00m\n\u001b[1;32m     40\u001b[0m   \u001b[38;5;66;03m# dependency (with_framework_lib=true), since we do not need RTLD_GLOBAL.\u001b[39;00m\n",
            "File \u001b[0;32m~/opt/anaconda3/envs/quera/lib/python3.9/site-packages/tensorflow/python/platform/self_check.py:63\u001b[0m, in \u001b[0;36mpreload_check\u001b[0;34m()\u001b[0m\n\u001b[1;32m     50\u001b[0m       \u001b[38;5;28;01mraise\u001b[39;00m \u001b[38;5;167;01mImportError\u001b[39;00m(\n\u001b[1;32m     51\u001b[0m           \u001b[38;5;124m\"\u001b[39m\u001b[38;5;124mCould not find the DLL(s) \u001b[39m\u001b[38;5;132;01m%r\u001b[39;00m\u001b[38;5;124m. TensorFlow requires that these DLLs \u001b[39m\u001b[38;5;124m\"\u001b[39m\n\u001b[1;32m     52\u001b[0m           \u001b[38;5;124m\"\u001b[39m\u001b[38;5;124mbe installed in a directory that is named in your \u001b[39m\u001b[38;5;132;01m%%\u001b[39;00m\u001b[38;5;124mPATH\u001b[39m\u001b[38;5;132;01m%%\u001b[39;00m\u001b[38;5;124m \u001b[39m\u001b[38;5;124m\"\u001b[39m\n\u001b[0;32m   (...)\u001b[0m\n\u001b[1;32m     56\u001b[0m           \u001b[38;5;124m\"\u001b[39m\u001b[38;5;124mhttps://support.microsoft.com/help/2977003/the-latest-supported-visual-c-downloads\u001b[39m\u001b[38;5;124m\"\u001b[39m\n\u001b[1;32m     57\u001b[0m           \u001b[38;5;241m%\u001b[39m \u001b[38;5;124m\"\u001b[39m\u001b[38;5;124m or \u001b[39m\u001b[38;5;124m\"\u001b[39m\u001b[38;5;241m.\u001b[39mjoin(missing))\n\u001b[1;32m     58\u001b[0m \u001b[38;5;28;01melse\u001b[39;00m:\n\u001b[1;32m     59\u001b[0m   \u001b[38;5;66;03m# Load a library that performs CPU feature guard checking.  Doing this here\u001b[39;00m\n\u001b[1;32m     60\u001b[0m   \u001b[38;5;66;03m# as a preload check makes it more likely that we detect any CPU feature\u001b[39;00m\n\u001b[1;32m     61\u001b[0m   \u001b[38;5;66;03m# incompatibilities before we trigger them (which would typically result in\u001b[39;00m\n\u001b[1;32m     62\u001b[0m   \u001b[38;5;66;03m# SIGILL).\u001b[39;00m\n\u001b[0;32m---> 63\u001b[0m   \u001b[38;5;28;01mfrom\u001b[39;00m \u001b[38;5;21;01mtensorflow\u001b[39;00m\u001b[38;5;21;01m.\u001b[39;00m\u001b[38;5;21;01mpython\u001b[39;00m\u001b[38;5;21;01m.\u001b[39;00m\u001b[38;5;21;01mplatform\u001b[39;00m \u001b[38;5;28;01mimport\u001b[39;00m _pywrap_cpu_feature_guard\n\u001b[1;32m     64\u001b[0m   _pywrap_cpu_feature_guard\u001b[38;5;241m.\u001b[39mInfoAboutUnusedCPUFeatures()\n",
            "\u001b[0;31mKeyboardInterrupt\u001b[0m: "
          ]
        }
      ],
      "source": [
        "import tensorflow as tf\n",
        "import numpy as np\n",
        "from tensorflow import keras\n",
        "import sklearn\n",
        "from sklearn.preprocessing import StandardScaler\n",
        "import matplotlib.pyplot as plt\n",
        "from sklearn import datasets\n",
        "from sklearn.model_selection import train_test_split\n",
        "from sklearn.preprocessing import StandardScaler\n",
        "from sklearn.metrics import r2_score\n"
      ]
    },
    {
      "cell_type": "code",
      "execution_count": 29,
      "metadata": {
        "id": "Qw-eXLyXLYgo"
      },
      "outputs": [],
      "source": [
        "df = sklearn.datasets.fetch_california_housing()"
      ]
    },
    {
      "cell_type": "code",
      "execution_count": 28,
      "metadata": {
        "id": "GWdjRD0E-GRF"
      },
      "outputs": [],
      "source": [
        "fmnist = keras.datasets.fashion_mnist"
      ]
    },
    {
      "cell_type": "code",
      "execution_count": 3,
      "metadata": {
        "colab": {
          "base_uri": "https://localhost:8080/"
        },
        "id": "h7VLCVb2-O3O",
        "outputId": "621fc47a-45f3-441c-8af4-fc31c64e9abc"
      },
      "outputs": [
        {
          "name": "stdout",
          "output_type": "stream",
          "text": [
            "Downloading data from https://storage.googleapis.com/tensorflow/tf-keras-datasets/train-labels-idx1-ubyte.gz\n",
            "29515/29515 [==============================] - 0s 0us/step\n",
            "Downloading data from https://storage.googleapis.com/tensorflow/tf-keras-datasets/train-images-idx3-ubyte.gz\n",
            "26421880/26421880 [==============================] - 0s 0us/step\n",
            "Downloading data from https://storage.googleapis.com/tensorflow/tf-keras-datasets/t10k-labels-idx1-ubyte.gz\n",
            "5148/5148 [==============================] - 0s 0us/step\n",
            "Downloading data from https://storage.googleapis.com/tensorflow/tf-keras-datasets/t10k-images-idx3-ubyte.gz\n",
            "4422102/4422102 [==============================] - 0s 0us/step\n"
          ]
        }
      ],
      "source": [
        "(x_train, y_train), (x_test, y_test) = fmnist.load_data()"
      ]
    },
    {
      "cell_type": "code",
      "execution_count": 4,
      "metadata": {
        "colab": {
          "base_uri": "https://localhost:8080/"
        },
        "id": "CrmImDDC-PUx",
        "outputId": "af2b0025-9e75-46ad-bc45-7ada278afcf5"
      },
      "outputs": [
        {
          "data": {
            "text/plain": [
              "(60000, 28, 28)"
            ]
          },
          "execution_count": 4,
          "metadata": {},
          "output_type": "execute_result"
        }
      ],
      "source": [
        "x_train.shape"
      ]
    },
    {
      "cell_type": "code",
      "execution_count": 5,
      "metadata": {
        "colab": {
          "base_uri": "https://localhost:8080/"
        },
        "id": "Wpdmbc9C-ZOB",
        "outputId": "3a829fb8-7e28-4a7b-83c4-ffa1e930dd65"
      },
      "outputs": [
        {
          "data": {
            "text/plain": [
              "(60000,)"
            ]
          },
          "execution_count": 5,
          "metadata": {},
          "output_type": "execute_result"
        }
      ],
      "source": [
        "y_train.shape"
      ]
    },
    {
      "cell_type": "code",
      "execution_count": 6,
      "metadata": {
        "colab": {
          "base_uri": "https://localhost:8080/"
        },
        "id": "lM29Pw7F-c0v",
        "outputId": "d5195ff2-bf20-4ea1-f97e-bff6b0c06014"
      },
      "outputs": [
        {
          "data": {
            "text/plain": [
              "array([9, 0, 0, 3, 0, 2, 7, 2, 5], dtype=uint8)"
            ]
          },
          "execution_count": 6,
          "metadata": {},
          "output_type": "execute_result"
        }
      ],
      "source": [
        "y_train[:9]"
      ]
    },
    {
      "cell_type": "code",
      "execution_count": 7,
      "metadata": {
        "colab": {
          "base_uri": "https://localhost:8080/",
          "height": 447
        },
        "id": "VInLRisrBMcy",
        "outputId": "f6bca04b-d7a7-4a4e-fb91-09a7a7165209"
      },
      "outputs": [
        {
          "data": {
            "text/plain": [
              "<matplotlib.image.AxesImage at 0x7ac1ceefd300>"
            ]
          },
          "execution_count": 7,
          "metadata": {},
          "output_type": "execute_result"
        },
        {
          "data": {
            "image/png": "[encoded data removed]",
            "text/plain": [
              "<Figure size 640x480 with 1 Axes>"
            ]
          },
          "metadata": {},
          "output_type": "display_data"
        }
      ],
      "source": [
        "plt.imshow(x_train[1], cmap='gray')"
      ]
    },
    {
      "cell_type": "code",
      "execution_count": 8,
      "metadata": {
        "id": "GYeX0qcR-fXT"
      },
      "outputs": [],
      "source": [
        "x_train, x_test = x_train/255.0, x_test/255.0"
      ]
    },
    {
      "cell_type": "code",
      "execution_count": 9,
      "metadata": {
        "id": "E8-KWutc_hgx"
      },
      "outputs": [],
      "source": [
        "model = keras.models.Sequential()\n",
        "model.add(keras.layers.Flatten(input_shape=[28,28]))\n",
        "model.add(keras.layers.Dense(100, activation=\"relu\"))\n",
        "model.add(keras.layers.Dense(75, activation=\"relu\"))\n",
        "model.add(keras.layers.Dense(100, activation=\"relu\"))\n",
        "model.add(keras.layers.Dense(10, activation=\"softmax\"))"
      ]
    },
    {
      "cell_type": "code",
      "execution_count": 10,
      "metadata": {
        "colab": {
          "base_uri": "https://localhost:8080/"
        },
        "id": "Ph8tnlhaQtrZ",
        "outputId": "c1ba8bd5-7f77-4d76-8107-10c83a4e1f58"
      },
      "outputs": [
        {
          "name": "stdout",
          "output_type": "stream",
          "text": [
            "Model: \"sequential\"\n",
            "_________________________________________________________________\n",
            " Layer (type)                Output Shape              Param #   \n",
            "=================================================================\n",
            " flatten (Flatten)           (None, 784)               0         \n",
            "                                                                 \n",
            " dense (Dense)               (None, 100)               78500     \n",
            "                                                                 \n",
            " dense_1 (Dense)             (None, 75)                7575      \n",
            "                                                                 \n",
            " dense_2 (Dense)             (None, 100)               7600      \n",
            "                                                                 \n",
            " dense_3 (Dense)             (None, 10)                1010      \n",
            "                                                                 \n",
            "=================================================================\n",
            "Total params: 94685 (369.86 KB)\n",
            "Trainable params: 94685 (369.86 KB)\n",
            "Non-trainable params: 0 (0.00 Byte)\n",
            "_________________________________________________________________\n"
          ]
        }
      ],
      "source": [
        "model.summary()"
      ]
    },
    {
      "cell_type": "code",
      "execution_count": 11,
      "metadata": {
        "id": "HPF7l23rR3Eh"
      },
      "outputs": [],
      "source": [
        "model.compile(loss=\"sparse_categorical_crossentropy\",\n",
        "              optimizer='sgd',\n",
        "              metrics=\"accuracy\")"
      ]
    },
    {
      "cell_type": "code",
      "execution_count": 12,
      "metadata": {
        "colab": {
          "base_uri": "https://localhost:8080/"
        },
        "id": "AnTpedoSYvxC",
        "outputId": "a06895b4-e12b-4acd-ed2a-d6cd69b482d2"
      },
      "outputs": [
        {
          "name": "stdout",
          "output_type": "stream",
          "text": [
            "Epoch 1/50\n",
            "1594/1594 [==============================] - 12s 7ms/step - loss: 0.7993 - accuracy: 0.7295 - val_loss: 0.5851 - val_accuracy: 0.7853\n",
            "Epoch 2/50\n",
            "1594/1594 [==============================] - 12s 7ms/step - loss: 0.5021 - accuracy: 0.8232 - val_loss: 0.5070 - val_accuracy: 0.8152\n",
            "Epoch 3/50\n",
            "1594/1594 [==============================] - 7s 4ms/step - loss: 0.4508 - accuracy: 0.8398 - val_loss: 0.4513 - val_accuracy: 0.8408\n",
            "Epoch 4/50\n",
            "1594/1594 [==============================] - 5s 3ms/step - loss: 0.4210 - accuracy: 0.8496 - val_loss: 0.4235 - val_accuracy: 0.8508\n",
            "Epoch 5/50\n",
            "1594/1594 [==============================] - 6s 4ms/step - loss: 0.3960 - accuracy: 0.8581 - val_loss: 0.4258 - val_accuracy: 0.8469\n",
            "Epoch 6/50\n",
            "1594/1594 [==============================] - 6s 4ms/step - loss: 0.3795 - accuracy: 0.8639 - val_loss: 0.4070 - val_accuracy: 0.8502\n",
            "Epoch 7/50\n",
            "1594/1594 [==============================] - 6s 4ms/step - loss: 0.3650 - accuracy: 0.8683 - val_loss: 0.3796 - val_accuracy: 0.8623\n",
            "Epoch 8/50\n",
            "1594/1594 [==============================] - 6s 4ms/step - loss: 0.3538 - accuracy: 0.8717 - val_loss: 0.3891 - val_accuracy: 0.8629\n",
            "Epoch 9/50\n",
            "1594/1594 [==============================] - 5s 3ms/step - loss: 0.3428 - accuracy: 0.8767 - val_loss: 0.3694 - val_accuracy: 0.8670\n",
            "Epoch 10/50\n",
            "1594/1594 [==============================] - 6s 4ms/step - loss: 0.3327 - accuracy: 0.8790 - val_loss: 0.3549 - val_accuracy: 0.8708\n",
            "Epoch 11/50\n",
            "1594/1594 [==============================] - 5s 3ms/step - loss: 0.3240 - accuracy: 0.8824 - val_loss: 0.3521 - val_accuracy: 0.8740\n",
            "Epoch 12/50\n",
            "1594/1594 [==============================] - 6s 4ms/step - loss: 0.3175 - accuracy: 0.8851 - val_loss: 0.3541 - val_accuracy: 0.8710\n",
            "Epoch 13/50\n",
            "1594/1594 [==============================] - 5s 3ms/step - loss: 0.3105 - accuracy: 0.8873 - val_loss: 0.3407 - val_accuracy: 0.8801\n",
            "Epoch 14/50\n",
            "1594/1594 [==============================] - 7s 4ms/step - loss: 0.3020 - accuracy: 0.8902 - val_loss: 0.3659 - val_accuracy: 0.8703\n",
            "Epoch 15/50\n",
            "1594/1594 [==============================] - 5s 3ms/step - loss: 0.2970 - accuracy: 0.8915 - val_loss: 0.3408 - val_accuracy: 0.8780\n",
            "Epoch 16/50\n",
            "1594/1594 [==============================] - 6s 4ms/step - loss: 0.2916 - accuracy: 0.8936 - val_loss: 0.3540 - val_accuracy: 0.8731\n",
            "Epoch 17/50\n",
            "1594/1594 [==============================] - 5s 3ms/step - loss: 0.2861 - accuracy: 0.8953 - val_loss: 0.3368 - val_accuracy: 0.8796\n",
            "Epoch 18/50\n",
            "1594/1594 [==============================] - 7s 4ms/step - loss: 0.2804 - accuracy: 0.8975 - val_loss: 0.3360 - val_accuracy: 0.8796\n",
            "Epoch 19/50\n",
            "1594/1594 [==============================] - 7s 4ms/step - loss: 0.2766 - accuracy: 0.8975 - val_loss: 0.3312 - val_accuracy: 0.8799\n",
            "Epoch 20/50\n",
            "1594/1594 [==============================] - 6s 4ms/step - loss: 0.2706 - accuracy: 0.9001 - val_loss: 0.3429 - val_accuracy: 0.8793\n",
            "Epoch 21/50\n",
            "1594/1594 [==============================] - 6s 4ms/step - loss: 0.2670 - accuracy: 0.9013 - val_loss: 0.3364 - val_accuracy: 0.8806\n",
            "Epoch 22/50\n",
            "1594/1594 [==============================] - 7s 4ms/step - loss: 0.2616 - accuracy: 0.9042 - val_loss: 0.3376 - val_accuracy: 0.8798\n",
            "Epoch 23/50\n",
            "1594/1594 [==============================] - 6s 3ms/step - loss: 0.2579 - accuracy: 0.9040 - val_loss: 0.3271 - val_accuracy: 0.8798\n",
            "Epoch 24/50\n",
            "1594/1594 [==============================] - 7s 4ms/step - loss: 0.2531 - accuracy: 0.9062 - val_loss: 0.3404 - val_accuracy: 0.8781\n",
            "Epoch 25/50\n",
            "1594/1594 [==============================] - 6s 4ms/step - loss: 0.2499 - accuracy: 0.9082 - val_loss: 0.3306 - val_accuracy: 0.8813\n",
            "Epoch 26/50\n",
            "1594/1594 [==============================] - 7s 4ms/step - loss: 0.2464 - accuracy: 0.9097 - val_loss: 0.3293 - val_accuracy: 0.8817\n",
            "Epoch 27/50\n",
            "1594/1594 [==============================] - 6s 4ms/step - loss: 0.2431 - accuracy: 0.9102 - val_loss: 0.3229 - val_accuracy: 0.8834\n",
            "Epoch 28/50\n",
            "1594/1594 [==============================] - 7s 4ms/step - loss: 0.2396 - accuracy: 0.9115 - val_loss: 0.3199 - val_accuracy: 0.8851\n",
            "Epoch 29/50\n",
            "1594/1594 [==============================] - 6s 3ms/step - loss: 0.2362 - accuracy: 0.9125 - val_loss: 0.3343 - val_accuracy: 0.8812\n",
            "Epoch 30/50\n",
            "1594/1594 [==============================] - 7s 4ms/step - loss: 0.2331 - accuracy: 0.9136 - val_loss: 0.3462 - val_accuracy: 0.8782\n",
            "Epoch 31/50\n",
            "1594/1594 [==============================] - 6s 3ms/step - loss: 0.2309 - accuracy: 0.9142 - val_loss: 0.3256 - val_accuracy: 0.8863\n",
            "Epoch 32/50\n",
            "1594/1594 [==============================] - 6s 4ms/step - loss: 0.2257 - accuracy: 0.9164 - val_loss: 0.3522 - val_accuracy: 0.8751\n",
            "Epoch 33/50\n",
            "1594/1594 [==============================] - 6s 4ms/step - loss: 0.2229 - accuracy: 0.9180 - val_loss: 0.3260 - val_accuracy: 0.8866\n",
            "Epoch 34/50\n",
            "1594/1594 [==============================] - 6s 4ms/step - loss: 0.2204 - accuracy: 0.9187 - val_loss: 0.3353 - val_accuracy: 0.8820\n",
            "Epoch 35/50\n",
            "1594/1594 [==============================] - 6s 4ms/step - loss: 0.2171 - accuracy: 0.9206 - val_loss: 0.3341 - val_accuracy: 0.8852\n",
            "Epoch 36/50\n",
            "1594/1594 [==============================] - 5s 3ms/step - loss: 0.2138 - accuracy: 0.9220 - val_loss: 0.3280 - val_accuracy: 0.8846\n",
            "Epoch 37/50\n",
            "1594/1594 [==============================] - 7s 5ms/step - loss: 0.2123 - accuracy: 0.9209 - val_loss: 0.3246 - val_accuracy: 0.8880\n",
            "Epoch 38/50\n",
            "1594/1594 [==============================] - 5s 3ms/step - loss: 0.2078 - accuracy: 0.9231 - val_loss: 0.3457 - val_accuracy: 0.8812\n",
            "Epoch 39/50\n",
            "1594/1594 [==============================] - 6s 4ms/step - loss: 0.2051 - accuracy: 0.9255 - val_loss: 0.3272 - val_accuracy: 0.8836\n",
            "Epoch 40/50\n",
            "1594/1594 [==============================] - 5s 3ms/step - loss: 0.2030 - accuracy: 0.9255 - val_loss: 0.3510 - val_accuracy: 0.8837\n",
            "Epoch 41/50\n",
            "1594/1594 [==============================] - 6s 4ms/step - loss: 0.2001 - accuracy: 0.9255 - val_loss: 0.3371 - val_accuracy: 0.8842\n",
            "Epoch 42/50\n",
            "1594/1594 [==============================] - 5s 3ms/step - loss: 0.1980 - accuracy: 0.9269 - val_loss: 0.3289 - val_accuracy: 0.8897\n",
            "Epoch 43/50\n",
            "1594/1594 [==============================] - 7s 4ms/step - loss: 0.1957 - accuracy: 0.9278 - val_loss: 0.3308 - val_accuracy: 0.8876\n",
            "Epoch 44/50\n",
            "1594/1594 [==============================] - 5s 3ms/step - loss: 0.1923 - accuracy: 0.9301 - val_loss: 0.3330 - val_accuracy: 0.8894\n",
            "Epoch 45/50\n",
            "1594/1594 [==============================] - 6s 4ms/step - loss: 0.1900 - accuracy: 0.9301 - val_loss: 0.3471 - val_accuracy: 0.8859\n",
            "Epoch 46/50\n",
            "1594/1594 [==============================] - 5s 3ms/step - loss: 0.1869 - accuracy: 0.9309 - val_loss: 0.3552 - val_accuracy: 0.8801\n",
            "Epoch 47/50\n",
            "1594/1594 [==============================] - 5s 3ms/step - loss: 0.1842 - accuracy: 0.9320 - val_loss: 0.3326 - val_accuracy: 0.8891\n",
            "Epoch 48/50\n",
            "1594/1594 [==============================] - 7s 5ms/step - loss: 0.1827 - accuracy: 0.9322 - val_loss: 0.3361 - val_accuracy: 0.8896\n",
            "Epoch 49/50\n",
            "1594/1594 [==============================] - 5s 3ms/step - loss: 0.1786 - accuracy: 0.9343 - val_loss: 0.3372 - val_accuracy: 0.8872\n",
            "Epoch 50/50\n",
            "1594/1594 [==============================] - 6s 4ms/step - loss: 0.1776 - accuracy: 0.9350 - val_loss: 0.3249 - val_accuracy: 0.8909\n"
          ]
        }
      ],
      "source": [
        "history = model.fit(x_train, y_train, epochs=50, validation_split=0.15, shuffle=True)"
      ]
    },
    {
      "cell_type": "code",
      "execution_count": 13,
      "metadata": {
        "colab": {
          "base_uri": "https://localhost:8080/"
        },
        "id": "oqox-O8SZQ8r",
        "outputId": "0a37c32f-d869-4e79-86e7-48213c86ed6d"
      },
      "outputs": [
        {
          "data": {
            "text/plain": [
              "{'loss': [0.7993221282958984,\n",
              "  0.5021352767944336,\n",
              "  0.4507584273815155,\n",
              "  0.4209825098514557,\n",
              "  0.395952045917511,\n",
              "  0.3795059621334076,\n",
              "  0.3649558126926422,\n",
              "  0.3538403809070587,\n",
              "  0.34278494119644165,\n",
              "  0.33274391293525696,\n",
              "  0.3239901065826416,\n",
              "  0.31747886538505554,\n",
              "  0.31053271889686584,\n",
              "  0.30199313163757324,\n",
              "  0.2970091998577118,\n",
              "  0.29161062836647034,\n",
              "  0.28611236810684204,\n",
              "  0.2804149091243744,\n",
              "  0.2766379415988922,\n",
              "  0.27062588930130005,\n",
              "  0.2669637203216553,\n",
              "  0.2616021931171417,\n",
              "  0.25790849328041077,\n",
              "  0.25311538577079773,\n",
              "  0.24992965161800385,\n",
              "  0.24639761447906494,\n",
              "  0.24312320351600647,\n",
              "  0.23959027230739594,\n",
              "  0.23620779812335968,\n",
              "  0.23308856785297394,\n",
              "  0.23094740509986877,\n",
              "  0.22567665576934814,\n",
              "  0.22285431623458862,\n",
              "  0.22040605545043945,\n",
              "  0.21707704663276672,\n",
              "  0.21380719542503357,\n",
              "  0.21234025061130524,\n",
              "  0.2077893614768982,\n",
              "  0.20505352318286896,\n",
              "  0.2030339241027832,\n",
              "  0.20013490319252014,\n",
              "  0.19801311194896698,\n",
              "  0.19566231966018677,\n",
              "  0.19225811958312988,\n",
              "  0.18997922539710999,\n",
              "  0.18686573207378387,\n",
              "  0.18423756957054138,\n",
              "  0.18271036446094513,\n",
              "  0.17858320474624634,\n",
              "  0.17756387591362],\n",
              " 'accuracy': [0.7294510006904602,\n",
              "  0.823235273361206,\n",
              "  0.8398431539535522,\n",
              "  0.849647045135498,\n",
              "  0.858098030090332,\n",
              "  0.8639411926269531,\n",
              "  0.8683333396911621,\n",
              "  0.871666669845581,\n",
              "  0.8767451047897339,\n",
              "  0.8789607882499695,\n",
              "  0.8823529481887817,\n",
              "  0.8851176500320435,\n",
              "  0.887333333492279,\n",
              "  0.8901960849761963,\n",
              "  0.8915489912033081,\n",
              "  0.8936274647712708,\n",
              "  0.8952745199203491,\n",
              "  0.8975294232368469,\n",
              "  0.8974902033805847,\n",
              "  0.9000980257987976,\n",
              "  0.9012941122055054,\n",
              "  0.9041960835456848,\n",
              "  0.9040195941925049,\n",
              "  0.9062156677246094,\n",
              "  0.9082353115081787,\n",
              "  0.9097450971603394,\n",
              "  0.9102156758308411,\n",
              "  0.9115098118782043,\n",
              "  0.9125294089317322,\n",
              "  0.9135686159133911,\n",
              "  0.9141568541526794,\n",
              "  0.9163921475410461,\n",
              "  0.9179999828338623,\n",
              "  0.9187058806419373,\n",
              "  0.9205686450004578,\n",
              "  0.921999990940094,\n",
              "  0.9208823442459106,\n",
              "  0.9230980277061462,\n",
              "  0.9255098104476929,\n",
              "  0.9254705905914307,\n",
              "  0.9255490303039551,\n",
              "  0.9268823266029358,\n",
              "  0.9277843236923218,\n",
              "  0.9300588369369507,\n",
              "  0.930117666721344,\n",
              "  0.9309019446372986,\n",
              "  0.9319999814033508,\n",
              "  0.9322353005409241,\n",
              "  0.9342941045761108,\n",
              "  0.9350000023841858],\n",
              " 'val_loss': [0.5851073861122131,\n",
              "  0.5069934725761414,\n",
              "  0.4512609541416168,\n",
              "  0.42346885800361633,\n",
              "  0.42580723762512207,\n",
              "  0.4070495665073395,\n",
              "  0.37962424755096436,\n",
              "  0.38914287090301514,\n",
              "  0.36938273906707764,\n",
              "  0.354890912771225,\n",
              "  0.35211846232414246,\n",
              "  0.3541259169578552,\n",
              "  0.3407449722290039,\n",
              "  0.36587950587272644,\n",
              "  0.3408392071723938,\n",
              "  0.35395359992980957,\n",
              "  0.3367815911769867,\n",
              "  0.33601289987564087,\n",
              "  0.3312177062034607,\n",
              "  0.3429130017757416,\n",
              "  0.33643361926078796,\n",
              "  0.3376394808292389,\n",
              "  0.3271012604236603,\n",
              "  0.34041380882263184,\n",
              "  0.33064088225364685,\n",
              "  0.3293074071407318,\n",
              "  0.3229483664035797,\n",
              "  0.3198695480823517,\n",
              "  0.33430689573287964,\n",
              "  0.3461979627609253,\n",
              "  0.3256048262119293,\n",
              "  0.35220518708229065,\n",
              "  0.326020210981369,\n",
              "  0.3353149890899658,\n",
              "  0.3341198265552521,\n",
              "  0.3280147612094879,\n",
              "  0.32460466027259827,\n",
              "  0.3457156717777252,\n",
              "  0.32719531655311584,\n",
              "  0.3509666323661804,\n",
              "  0.3370693325996399,\n",
              "  0.32892918586730957,\n",
              "  0.33080559968948364,\n",
              "  0.332978755235672,\n",
              "  0.34707096219062805,\n",
              "  0.35516637563705444,\n",
              "  0.33260470628738403,\n",
              "  0.3361431062221527,\n",
              "  0.33721137046813965,\n",
              "  0.32488882541656494],\n",
              " 'val_accuracy': [0.7853333353996277,\n",
              "  0.8152222037315369,\n",
              "  0.8407777547836304,\n",
              "  0.850777804851532,\n",
              "  0.8468888998031616,\n",
              "  0.8502222299575806,\n",
              "  0.862333357334137,\n",
              "  0.8628888726234436,\n",
              "  0.8669999837875366,\n",
              "  0.8707777857780457,\n",
              "  0.8740000128746033,\n",
              "  0.8709999918937683,\n",
              "  0.8801110982894897,\n",
              "  0.8703333139419556,\n",
              "  0.878000020980835,\n",
              "  0.8731111288070679,\n",
              "  0.8795555830001831,\n",
              "  0.8795555830001831,\n",
              "  0.8798888921737671,\n",
              "  0.8793333172798157,\n",
              "  0.8805555701255798,\n",
              "  0.8797777891159058,\n",
              "  0.8797777891159058,\n",
              "  0.8781111240386963,\n",
              "  0.8813333511352539,\n",
              "  0.8816666603088379,\n",
              "  0.8834444284439087,\n",
              "  0.8851110935211182,\n",
              "  0.8812222480773926,\n",
              "  0.8782222270965576,\n",
              "  0.8863333463668823,\n",
              "  0.8751111030578613,\n",
              "  0.886555552482605,\n",
              "  0.8820000290870667,\n",
              "  0.8852221965789795,\n",
              "  0.8845555782318115,\n",
              "  0.8880000114440918,\n",
              "  0.8812222480773926,\n",
              "  0.88355553150177,\n",
              "  0.8836666941642761,\n",
              "  0.8842222094535828,\n",
              "  0.8896666765213013,\n",
              "  0.8875555396080017,\n",
              "  0.8894444704055786,\n",
              "  0.8858888745307922,\n",
              "  0.8801110982894897,\n",
              "  0.8891111016273499,\n",
              "  0.8895555734634399,\n",
              "  0.8872222304344177,\n",
              "  0.8908888697624207]}"
            ]
          },
          "execution_count": 13,
          "metadata": {},
          "output_type": "execute_result"
        }
      ],
      "source": [
        "history.history"
      ]
    },
    {
      "cell_type": "code",
      "execution_count": 14,
      "metadata": {
        "colab": {
          "base_uri": "https://localhost:8080/",
          "height": 462
        },
        "id": "Hgw846UsFslB",
        "outputId": "f043d164-3d71-4797-f400-58d3ec447288"
      },
      "outputs": [
        {
          "data": {
            "text/plain": [
              "<matplotlib.legend.Legend at 0x7ac1ac1283a0>"
            ]
          },
          "execution_count": 14,
          "metadata": {},
          "output_type": "execute_result"
        },
        {
          "data": {
            "image/png": "[encoded data removed]",
            "text/plain": [
              "<Figure size 1200x500 with 1 Axes>"
            ]
          },
          "metadata": {},
          "output_type": "display_data"
        }
      ],
      "source": [
        "fig, ax = plt.subplots(figsize=(12,5))\n",
        "ax.plot(history.history['loss'], label=\"train loss\")\n",
        "ax.plot(history.history['accuracy'], label=\"train_acc\")\n",
        "ax.plot(history.history['val_loss'], label=\"val_loss\")\n",
        "ax.plot(history.history['val_accuracy'], label=\"val_acc\")\n",
        "ax.legend()"
      ]
    },
    {
      "cell_type": "code",
      "execution_count": 15,
      "metadata": {
        "colab": {
          "base_uri": "https://localhost:8080/"
        },
        "id": "pMnFUHRVGQ_4",
        "outputId": "256db5d6-4ffa-47aa-d574-68089a4099e0"
      },
      "outputs": [
        {
          "data": {
            "text/plain": [
              "[0.3538241982460022, 0.8838000297546387]"
            ]
          },
          "execution_count": 15,
          "metadata": {},
          "output_type": "execute_result"
        }
      ],
      "source": [
        "model.evaluate(x_test, y_test, verbose=0)"
      ]
    },
    {
      "cell_type": "code",
      "execution_count": 16,
      "metadata": {
        "id": "LB3U-F5SHfXU"
      },
      "outputs": [],
      "source": [
        "x3 = x_test[1:3,:,:]"
      ]
    },
    {
      "cell_type": "code",
      "execution_count": 17,
      "metadata": {
        "colab": {
          "base_uri": "https://localhost:8080/",
          "height": 447
        },
        "id": "MZTBQuzqIABF",
        "outputId": "11373314-c1ac-405d-d9a5-afb9d8892bc2"
      },
      "outputs": [
        {
          "data": {
            "text/plain": [
              "<matplotlib.image.AxesImage at 0x7ac1cc4c4af0>"
            ]
          },
          "execution_count": 17,
          "metadata": {},
          "output_type": "execute_result"
        },
        {
          "data": {
            "image/png": "[encoded data removed]",
            "text/plain": [
              "<Figure size 640x480 with 1 Axes>"
            ]
          },
          "metadata": {},
          "output_type": "display_data"
        }
      ],
      "source": [
        "plt.imshow(x3[1], cmap=\"gray\")"
      ]
    },
    {
      "cell_type": "code",
      "execution_count": 20,
      "metadata": {
        "colab": {
          "base_uri": "https://localhost:8080/"
        },
        "id": "UdbAPwDYID2R",
        "outputId": "73bf8e5c-e89e-47e4-9f40-e5bdf99989c2"
      },
      "outputs": [
        {
          "name": "stdout",
          "output_type": "stream",
          "text": [
            "1/1 [==============================] - 0s 149ms/step\n"
          ]
        },
        {
          "data": {
            "text/plain": [
              "array([[1.38679123e-03, 7.50137105e-12, 9.97566462e-01, 9.98775992e-11,\n",
              "        4.41154669e-04, 4.13839210e-13, 6.05710782e-04, 8.18620727e-11,\n",
              "        1.59622437e-11, 1.58037250e-10],\n",
              "       [1.87057303e-09, 1.00000000e+00, 3.93406141e-12, 3.38950290e-09,\n",
              "        4.88560130e-11, 2.30460506e-19, 3.67055608e-10, 6.76153334e-14,\n",
              "        1.48367386e-12, 1.03564035e-13]], dtype=float32)"
            ]
          },
          "execution_count": 20,
          "metadata": {},
          "output_type": "execute_result"
        }
      ],
      "source": [
        "model.predict(x3)"
      ]
    },
    {
      "cell_type": "code",
      "execution_count": 22,
      "metadata": {
        "colab": {
          "base_uri": "https://localhost:8080/"
        },
        "id": "ovngX4MPIND4",
        "outputId": "7c5a1eaa-3c04-48a3-eac9-3658e262636d"
      },
      "outputs": [
        {
          "name": "stdout",
          "output_type": "stream",
          "text": [
            "1/1 [==============================] - 0s 23ms/step\n"
          ]
        },
        {
          "data": {
            "text/plain": [
              "array([2, 1])"
            ]
          },
          "execution_count": 22,
          "metadata": {},
          "output_type": "execute_result"
        }
      ],
      "source": [
        "np.argmax(model.predict(x3), axis=1)"
      ]
    },
    {
      "cell_type": "markdown",
      "metadata": {
        "id": "eEDy9e_IK-Pa"
      },
      "source": [
        "#regression"
      ]
    },
    {
      "cell_type": "code",
      "execution_count": 31,
      "metadata": {
        "colab": {
          "base_uri": "https://localhost:8080/"
        },
        "id": "22ZABakXK-mb",
        "outputId": "65752f48-7c1e-4a17-d2ea-eb42b10bbe0c"
      },
      "outputs": [
        {
          "data": {
            "text/plain": [
              "{'data': array([[   8.3252    ,   41.        ,    6.98412698, ...,    2.55555556,\n",
              "           37.88      , -122.23      ],\n",
              "        [   8.3014    ,   21.        ,    6.23813708, ...,    2.10984183,\n",
              "           37.86      , -122.22      ],\n",
              "        [   7.2574    ,   52.        ,    8.28813559, ...,    2.80225989,\n",
              "           37.85      , -122.24      ],\n",
              "        ...,\n",
              "        [   1.7       ,   17.        ,    5.20554273, ...,    2.3256351 ,\n",
              "           39.43      , -121.22      ],\n",
              "        [   1.8672    ,   18.        ,    5.32951289, ...,    2.12320917,\n",
              "           39.43      , -121.32      ],\n",
              "        [   2.3886    ,   16.        ,    5.25471698, ...,    2.61698113,\n",
              "           39.37      , -121.24      ]]),\n",
              " 'target': array([4.526, 3.585, 3.521, ..., 0.923, 0.847, 0.894]),\n",
              " 'frame': None,\n",
              " 'target_names': ['MedHouseVal'],\n",
              " 'feature_names': ['MedInc',\n",
              "  'HouseAge',\n",
              "  'AveRooms',\n",
              "  'AveBedrms',\n",
              "  'Population',\n",
              "  'AveOccup',\n",
              "  'Latitude',\n",
              "  'Longitude'],\n",
              " 'DESCR': '.. _california_housing_dataset:\\n\\nCalifornia Housing dataset\\n--------------------------\\n\\n**Data Set Characteristics:**\\n\\n    :Number of Instances: 20640\\n\\n    :Number of Attributes: 8 numeric, predictive attributes and the target\\n\\n    :Attribute Information:\\n        - MedInc        median income in block group\\n        - HouseAge      median house age in block group\\n        - AveRooms      average number of rooms per household\\n        - AveBedrms     average number of bedrooms per household\\n        - Population    block group population\\n        - AveOccup      average number of household members\\n        - Latitude      block group latitude\\n        - Longitude     block group longitude\\n\\n    :Missing Attribute Values: None\\n\\nThis dataset was obtained from the StatLib repository.\\nhttps://www.dcc.fc.up.pt/~ltorgo/Regression/cal_housing.html\\n\\nThe target variable is the median house value for California districts,\\nexpressed in hundreds of thousands of dollars ($100,000).\\n\\nThis dataset was derived from the 1990 U.S. census, using one row per census\\nblock group. A block group is the smallest geographical unit for which the U.S.\\nCensus Bureau publishes sample data (a block group typically has a population\\nof 600 to 3,000 people).\\n\\nA household is a group of people residing within a home. Since the average\\nnumber of rooms and bedrooms in this dataset are provided per household, these\\ncolumns may take surprisingly large values for block groups with few households\\nand many empty houses, such as vacation resorts.\\n\\nIt can be downloaded/loaded using the\\n:func:`sklearn.datasets.fetch_california_housing` function.\\n\\n.. topic:: References\\n\\n    - Pace, R. Kelley and Ronald Barry, Sparse Spatial Autoregressions,\\n      Statistics and Probability Letters, 33 (1997) 291-297\\n'}"
            ]
          },
          "execution_count": 31,
          "metadata": {},
          "output_type": "execute_result"
        }
      ],
      "source": [
        "df"
      ]
    },
    {
      "cell_type": "code",
      "execution_count": 34,
      "metadata": {
        "id": "TcjtLAwbMP2O"
      },
      "outputs": [],
      "source": [
        "x_train0, x_test, y_train0, y_test = train_test_split(df[\"data\"], df[\"target\"], test_size=0.2, random_state=42)"
      ]
    },
    {
      "cell_type": "code",
      "execution_count": 35,
      "metadata": {
        "id": "TZgY-8WrNLye"
      },
      "outputs": [],
      "source": [
        "x_train1, x_val, y_train1, y_val = train_test_split(x_train0, y_train0, test_size=0.2, random_state=42)"
      ]
    },
    {
      "cell_type": "code",
      "execution_count": 36,
      "metadata": {
        "colab": {
          "base_uri": "https://localhost:8080/"
        },
        "id": "3i5OyqPUNLvo",
        "outputId": "84692f02-d6fa-46d8-9f29-5d396efd50c2"
      },
      "outputs": [
        {
          "data": {
            "text/plain": [
              "(4128, 8)"
            ]
          },
          "execution_count": 36,
          "metadata": {},
          "output_type": "execute_result"
        }
      ],
      "source": [
        "x_test.shape"
      ]
    },
    {
      "cell_type": "code",
      "execution_count": 38,
      "metadata": {
        "id": "jrdENnyeMgQk"
      },
      "outputs": [],
      "source": [
        "scaler = StandardScaler()"
      ]
    },
    {
      "cell_type": "code",
      "execution_count": 40,
      "metadata": {
        "id": "LvG5i7i9Ntoa"
      },
      "outputs": [],
      "source": [
        "x_train_sc = scaler.fit_transform(x_train1)"
      ]
    },
    {
      "cell_type": "code",
      "execution_count": 41,
      "metadata": {
        "id": "04iaRuz7Nzt3"
      },
      "outputs": [],
      "source": [
        "x_val_s = scaler.transform(x_val)\n",
        "x_test_s = scaler.transform(x_test)"
      ]
    },
    {
      "cell_type": "code",
      "execution_count": 58,
      "metadata": {
        "id": "PC7Olb6uOWOE"
      },
      "outputs": [],
      "source": [
        "model1 = keras.models.Sequential()\n",
        "model1.add(keras.layers.Dense(50, activation=\"relu\"))\n",
        "model1.add(keras.layers.Dense(100, activation=\"relu\"))\n",
        "model1.add(keras.layers.Dense(50, activation=\"relu\"))\n",
        "model1.add(keras.layers.Dense(100, activation=\"relu\"))\n",
        "model1.add(keras.layers.Dense(50, activation=\"relu\"))\n",
        "model1.add(keras.layers.Dense(1))"
      ]
    },
    {
      "cell_type": "code",
      "execution_count": 59,
      "metadata": {
        "id": "vp_R4q0KO6BW"
      },
      "outputs": [],
      "source": [
        "model1.compile(loss=\"mean_squared_error\",\n",
        "               optimizer=\"sgd\",\n",
        "               metrics=[\"mean_absolute_error\"])"
      ]
    },
    {
      "cell_type": "code",
      "execution_count": 60,
      "metadata": {
        "colab": {
          "base_uri": "https://localhost:8080/"
        },
        "id": "29oMPcZoO8Zf",
        "outputId": "597695ff-8160-4e99-efec-d3cb7afa2d2c"
      },
      "outputs": [
        {
          "name": "stdout",
          "output_type": "stream",
          "text": [
            "Epoch 1/50\n",
            "413/413 [==============================] - 2s 4ms/step - loss: 0.7871 - mean_absolute_error: 0.6300 - val_loss: 0.5479 - val_mean_absolute_error: 0.5232\n",
            "Epoch 2/50\n",
            "413/413 [==============================] - 2s 4ms/step - loss: 0.4464 - mean_absolute_error: 0.4800 - val_loss: 0.4462 - val_mean_absolute_error: 0.4661\n",
            "Epoch 3/50\n",
            "413/413 [==============================] - 1s 3ms/step - loss: 0.3947 - mean_absolute_error: 0.4473 - val_loss: 0.4405 - val_mean_absolute_error: 0.4899\n",
            "Epoch 4/50\n",
            "413/413 [==============================] - 1s 3ms/step - loss: 0.3681 - mean_absolute_error: 0.4306 - val_loss: 0.3954 - val_mean_absolute_error: 0.4478\n",
            "Epoch 5/50\n",
            "413/413 [==============================] - 1s 3ms/step - loss: 0.3568 - mean_absolute_error: 0.4222 - val_loss: 0.3719 - val_mean_absolute_error: 0.4295\n",
            "Epoch 6/50\n",
            "413/413 [==============================] - 2s 4ms/step - loss: 0.3436 - mean_absolute_error: 0.4141 - val_loss: 0.3668 - val_mean_absolute_error: 0.4283\n",
            "Epoch 7/50\n",
            "413/413 [==============================] - 2s 4ms/step - loss: 0.3357 - mean_absolute_error: 0.4090 - val_loss: 0.3663 - val_mean_absolute_error: 0.4127\n",
            "Epoch 8/50\n",
            "413/413 [==============================] - 1s 3ms/step - loss: 0.3277 - mean_absolute_error: 0.4012 - val_loss: 0.4105 - val_mean_absolute_error: 0.4256\n",
            "Epoch 9/50\n",
            "413/413 [==============================] - 1s 3ms/step - loss: 0.3226 - mean_absolute_error: 0.3980 - val_loss: 0.3492 - val_mean_absolute_error: 0.4138\n",
            "Epoch 10/50\n",
            "413/413 [==============================] - 1s 3ms/step - loss: 0.3124 - mean_absolute_error: 0.3910 - val_loss: 0.3403 - val_mean_absolute_error: 0.4020\n",
            "Epoch 11/50\n",
            "413/413 [==============================] - 1s 3ms/step - loss: 0.3092 - mean_absolute_error: 0.3890 - val_loss: 0.3419 - val_mean_absolute_error: 0.4113\n",
            "Epoch 12/50\n",
            "413/413 [==============================] - 1s 3ms/step - loss: 0.3046 - mean_absolute_error: 0.3845 - val_loss: 0.3314 - val_mean_absolute_error: 0.3904\n",
            "Epoch 13/50\n",
            "413/413 [==============================] - 1s 3ms/step - loss: 0.3021 - mean_absolute_error: 0.3832 - val_loss: 0.3227 - val_mean_absolute_error: 0.3942\n",
            "Epoch 14/50\n",
            "413/413 [==============================] - 1s 3ms/step - loss: 0.2999 - mean_absolute_error: 0.3803 - val_loss: 0.3733 - val_mean_absolute_error: 0.4138\n",
            "Epoch 15/50\n",
            "413/413 [==============================] - 1s 3ms/step - loss: 0.2954 - mean_absolute_error: 0.3763 - val_loss: 0.3251 - val_mean_absolute_error: 0.3929\n",
            "Epoch 16/50\n",
            "413/413 [==============================] - 2s 4ms/step - loss: 0.2898 - mean_absolute_error: 0.3742 - val_loss: 0.3297 - val_mean_absolute_error: 0.3943\n",
            "Epoch 17/50\n",
            "413/413 [==============================] - 1s 3ms/step - loss: 0.2922 - mean_absolute_error: 0.3737 - val_loss: 0.3115 - val_mean_absolute_error: 0.3856\n",
            "Epoch 18/50\n",
            "413/413 [==============================] - 1s 3ms/step - loss: 0.2876 - mean_absolute_error: 0.3708 - val_loss: 0.3515 - val_mean_absolute_error: 0.4162\n",
            "Epoch 19/50\n",
            "413/413 [==============================] - 1s 3ms/step - loss: 0.2848 - mean_absolute_error: 0.3695 - val_loss: 0.3235 - val_mean_absolute_error: 0.3788\n",
            "Epoch 20/50\n",
            "413/413 [==============================] - 1s 3ms/step - loss: 0.2838 - mean_absolute_error: 0.3679 - val_loss: 0.3111 - val_mean_absolute_error: 0.3773\n",
            "Epoch 21/50\n",
            "413/413 [==============================] - 1s 3ms/step - loss: 0.2837 - mean_absolute_error: 0.3664 - val_loss: 0.3089 - val_mean_absolute_error: 0.3784\n",
            "Epoch 22/50\n",
            "413/413 [==============================] - 1s 3ms/step - loss: 0.2772 - mean_absolute_error: 0.3634 - val_loss: 0.3158 - val_mean_absolute_error: 0.3832\n",
            "Epoch 23/50\n",
            "413/413 [==============================] - 1s 3ms/step - loss: 0.2777 - mean_absolute_error: 0.3639 - val_loss: 0.3161 - val_mean_absolute_error: 0.3844\n",
            "Epoch 24/50\n",
            "413/413 [==============================] - 1s 3ms/step - loss: 0.2768 - mean_absolute_error: 0.3623 - val_loss: 0.3186 - val_mean_absolute_error: 0.3765\n",
            "Epoch 25/50\n",
            "413/413 [==============================] - 1s 3ms/step - loss: 0.2773 - mean_absolute_error: 0.3636 - val_loss: 0.3150 - val_mean_absolute_error: 0.3806\n",
            "Epoch 26/50\n",
            "413/413 [==============================] - 2s 4ms/step - loss: 0.2735 - mean_absolute_error: 0.3604 - val_loss: 0.3630 - val_mean_absolute_error: 0.4198\n",
            "Epoch 27/50\n",
            "413/413 [==============================] - 1s 4ms/step - loss: 0.2720 - mean_absolute_error: 0.3586 - val_loss: 0.3101 - val_mean_absolute_error: 0.3900\n",
            "Epoch 28/50\n",
            "413/413 [==============================] - 1s 2ms/step - loss: 0.2693 - mean_absolute_error: 0.3588 - val_loss: 0.3106 - val_mean_absolute_error: 0.3788\n",
            "Epoch 29/50\n",
            "413/413 [==============================] - 1s 3ms/step - loss: 0.2696 - mean_absolute_error: 0.3569 - val_loss: 0.3367 - val_mean_absolute_error: 0.3902\n",
            "Epoch 30/50\n",
            "413/413 [==============================] - 1s 3ms/step - loss: 0.2682 - mean_absolute_error: 0.3568 - val_loss: 0.3118 - val_mean_absolute_error: 0.3701\n",
            "Epoch 31/50\n",
            "413/413 [==============================] - 1s 3ms/step - loss: 0.2659 - mean_absolute_error: 0.3547 - val_loss: 0.3128 - val_mean_absolute_error: 0.3811\n",
            "Epoch 32/50\n",
            "413/413 [==============================] - 1s 2ms/step - loss: 0.2669 - mean_absolute_error: 0.3544 - val_loss: 0.3003 - val_mean_absolute_error: 0.3722\n",
            "Epoch 33/50\n",
            "413/413 [==============================] - 1s 2ms/step - loss: 0.2632 - mean_absolute_error: 0.3539 - val_loss: 0.3013 - val_mean_absolute_error: 0.3740\n",
            "Epoch 34/50\n",
            "413/413 [==============================] - 1s 3ms/step - loss: 0.2627 - mean_absolute_error: 0.3524 - val_loss: 0.3509 - val_mean_absolute_error: 0.4119\n",
            "Epoch 35/50\n",
            "413/413 [==============================] - 1s 3ms/step - loss: 0.2634 - mean_absolute_error: 0.3523 - val_loss: 0.3121 - val_mean_absolute_error: 0.3834\n",
            "Epoch 36/50\n",
            "413/413 [==============================] - 1s 3ms/step - loss: 0.2677 - mean_absolute_error: 0.3554 - val_loss: 0.3133 - val_mean_absolute_error: 0.3688\n",
            "Epoch 37/50\n",
            "413/413 [==============================] - 2s 4ms/step - loss: 0.2619 - mean_absolute_error: 0.3528 - val_loss: 0.3051 - val_mean_absolute_error: 0.3696\n",
            "Epoch 38/50\n",
            "413/413 [==============================] - 1s 3ms/step - loss: 0.2617 - mean_absolute_error: 0.3506 - val_loss: 0.3030 - val_mean_absolute_error: 0.3700\n",
            "Epoch 39/50\n",
            "413/413 [==============================] - 1s 3ms/step - loss: 0.2614 - mean_absolute_error: 0.3502 - val_loss: 0.3268 - val_mean_absolute_error: 0.4136\n",
            "Epoch 40/50\n",
            "413/413 [==============================] - 1s 3ms/step - loss: 0.2606 - mean_absolute_error: 0.3499 - val_loss: 0.3160 - val_mean_absolute_error: 0.3944\n",
            "Epoch 41/50\n",
            "413/413 [==============================] - 1s 3ms/step - loss: 0.2608 - mean_absolute_error: 0.3509 - val_loss: 0.3127 - val_mean_absolute_error: 0.3799\n",
            "Epoch 42/50\n",
            "413/413 [==============================] - 1s 3ms/step - loss: 0.2571 - mean_absolute_error: 0.3490 - val_loss: 0.3046 - val_mean_absolute_error: 0.3783\n",
            "Epoch 43/50\n",
            "413/413 [==============================] - 1s 3ms/step - loss: 0.2542 - mean_absolute_error: 0.3459 - val_loss: 0.3259 - val_mean_absolute_error: 0.3975\n",
            "Epoch 44/50\n",
            "413/413 [==============================] - 1s 3ms/step - loss: 0.2563 - mean_absolute_error: 0.3476 - val_loss: 0.3265 - val_mean_absolute_error: 0.4027\n",
            "Epoch 45/50\n",
            "413/413 [==============================] - 1s 3ms/step - loss: 0.2553 - mean_absolute_error: 0.3474 - val_loss: 0.3496 - val_mean_absolute_error: 0.4178\n",
            "Epoch 46/50\n",
            "413/413 [==============================] - 1s 3ms/step - loss: 0.2513 - mean_absolute_error: 0.3447 - val_loss: 0.3225 - val_mean_absolute_error: 0.3956\n",
            "Epoch 47/50\n",
            "413/413 [==============================] - 2s 4ms/step - loss: 0.2508 - mean_absolute_error: 0.3442 - val_loss: 0.3061 - val_mean_absolute_error: 0.3648\n",
            "Epoch 48/50\n",
            "413/413 [==============================] - 2s 5ms/step - loss: 0.2517 - mean_absolute_error: 0.3447 - val_loss: 0.3197 - val_mean_absolute_error: 0.3974\n",
            "Epoch 49/50\n",
            "413/413 [==============================] - 1s 3ms/step - loss: 0.2499 - mean_absolute_error: 0.3430 - val_loss: 0.3026 - val_mean_absolute_error: 0.3676\n",
            "Epoch 50/50\n",
            "413/413 [==============================] - 1s 3ms/step - loss: 0.2500 - mean_absolute_error: 0.3429 - val_loss: 0.3004 - val_mean_absolute_error: 0.3629\n"
          ]
        }
      ],
      "source": [
        "history1 = model1.fit(x_train_sc, y_train1, epochs=50, validation_data=(x_val_s, y_val))"
      ]
    },
    {
      "cell_type": "code",
      "execution_count": 63,
      "metadata": {
        "colab": {
          "base_uri": "https://localhost:8080/"
        },
        "id": "UpvHc6CLQbi-",
        "outputId": "d33f4638-05cc-4218-9ae5-da95a80f479c"
      },
      "outputs": [
        {
          "name": "stdout",
          "output_type": "stream",
          "text": [
            "129/129 [==============================] - 0s 3ms/step - loss: 0.2896 - mean_absolute_error: 0.3543\n"
          ]
        },
        {
          "data": {
            "text/plain": [
              "[0.2896074652671814, 0.3542535901069641]"
            ]
          },
          "execution_count": 63,
          "metadata": {},
          "output_type": "execute_result"
        }
      ],
      "source": [
        "model1.evaluate(x_test_s, y_test, verbose=1)"
      ]
    },
    {
      "cell_type": "code",
      "execution_count": 65,
      "metadata": {
        "colab": {
          "base_uri": "https://localhost:8080/",
          "height": 105
        },
        "id": "htCef1vfS6D1",
        "outputId": "be316810-70f6-40c3-b1ea-474a88cc1a6e"
      },
      "outputs": [
        {
          "ename": "SyntaxError",
          "evalue": "invalid syntax (<ipython-input-65-2b99b2e34f45>, line 1)",
          "output_type": "error",
          "traceback": [
            "\u001b[0;36m  File \u001b[0;32m\"<ipython-input-65-2b99b2e34f45>\"\u001b[0;36m, line \u001b[0;32m1\u001b[0m\n\u001b[0;31m    git remote add origin https://github.com/amiroseino/DeepLearning.git\u001b[0m\n\u001b[0m        ^\u001b[0m\n\u001b[0;31mSyntaxError\u001b[0m\u001b[0;31m:\u001b[0m invalid syntax\n"
          ]
        }
      ],
      "source": []
    },
    {
      "cell_type": "code",
      "execution_count": null,
      "metadata": {
        "id": "BFeGT9wT76UJ"
      },
      "outputs": [],
      "source": []
    }
  ],
  "metadata": {
    "colab": {
      "provenance": []
    },
    "kernelspec": {
      "display_name": "Python 3",
      "name": "python3"
    },
    "language_info": {
      "codemirror_mode": {
        "name": "ipython",
        "version": 3
      },
      "file_extension": ".py",
      "mimetype": "text/x-python",
      "name": "python",
      "nbconvert_exporter": "python",
      "pygments_lexer": "ipython3",
      "version": "3.9.17"
    }
  },
  "nbformat": 4,
  "nbformat_minor": 0
}
